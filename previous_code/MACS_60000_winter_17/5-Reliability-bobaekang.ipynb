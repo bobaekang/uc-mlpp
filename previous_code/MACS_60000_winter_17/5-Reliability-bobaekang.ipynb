{
 "cells": [
  {
   "cell_type": "markdown",
   "metadata": {},
   "source": [
    "# Week 5 - Sampling & Reliability\n",
    "\n",
    "Up until this week, we have assumed that the corpus you have used for analysis assignments represented a *meaningful* assemblage of texts from which reasonable inferences could be drawn about the social game, social world and social actors that produced it. This week, we ask you to articulate what your sample represents in context of your final project, and draw upon methods we have developed over the last three weeks to draw reasonable and representative samples. \n",
    "\n",
    "This week we also pivot from our recent work on unsupervized machine learning approaches to explore how we can get *human* readings of content at scale. We want to gather and utilize human responses for several reasons. First, we may want to use crowdsourced human scores as the primary method of coding, extracting or organizing content (as it was in the two of the assigned readings). Second, we may want to validate or tune a computational algorithm we may have developed in terms of how it is associated with human meanings or experience. Finally, we may want to use human coding on a sample of data as the basis for training a model or algorithm to then extrapolate *human-like* annotations to the entire population. Here intelligent sampling is critical to maximize effective maching training. \n",
    "\n",
    "For this notebook we will be using the following packages"
   ]
  },
  {
   "cell_type": "code",
   "execution_count": 2,
   "metadata": {
    "collapsed": false
   },
   "outputs": [],
   "source": [
    "#All these packages need to be installed from pip\n",
    "import numpy as np #For arrays\n",
    "import scipy as sp #For some stats\n",
    "import pandas #Gives us DataFrames\n",
    "import matplotlib.pyplot as plt #For graphics\n",
    "import seaborn #Makes the graphics look nicer\n",
    "import pyanno #On python3 make sure to pip install pyanno3\n",
    "\n",
    "#We need to import these this way due to how pyanno is setup\n",
    "from pyanno.measures import pairwise_matrix, agreement, cohens_kappa, cohens_weighted_kappa, fleiss_kappa, krippendorffs_alpha, pearsons_rho, scotts_pi, spearmans_rho\n",
    "from pyanno.annotations import AnnotationsContainer\n",
    "from pyanno.models import ModelA, ModelBt, ModelB\n",
    "\n",
    "from functools import reduce\n",
    "from itertools import permutations\n",
    "import math\n",
    "\n",
    "\n",
    "#This 'magic' command makes the plots work better\n",
    "#in the notebook, don't use it outside of a notebook.\n",
    "#Also you can ignore the warning\n",
    "%matplotlib inline\n",
    "\n",
    "import os #For looking through files\n",
    "import os.path #For managing file paths"
   ]
  },
  {
   "cell_type": "markdown",
   "metadata": {},
   "source": [
    "## <span style=\"color:red\">*Pitch Your Project*</span>\n",
    "\n",
    "<span style=\"color:red\">In the three cells immediately following, describe **WHAT** you are planning to analyze for your final project (i.e., texts, contexts and the social game, world and actors you intend to learn about through your analysis) (<200 words), **WHY** you are going to do it (i.e., why would theory and/or the average person benefit from knowing the results of your investigation) (<200 words), and **HOW** you plan to investigate it (i.e., what are the approaches and operations you plan to perform, in sequence, to yield this insight) (<400 words)."
   ]
  },
  {
   "cell_type": "markdown",
   "metadata": {},
   "source": [
    "## ***What?*** \n",
    "<200 words  \n",
    "In my final project, I will conduct an exploratory analysis of the perceptions of the United Kingdom on automation and artificial intelligence on the one hand and, on the other hand, immigration and globalization, specifically with respect to their impact on economy and job market. In doing so, my project seeks to examine and compare the discourses relevant to the selected keywords (e.g. artificial intelligence, automation, globalization, immigrant, international trade, and robot) in these two countries, in order to highlight the similarities and differences between them."
   ]
  },
  {
   "cell_type": "markdown",
   "metadata": {},
   "source": [
    "## ***Why?***\n",
    "<200 words  \n",
    "The year of 2016 witness a dramatic rise of the “right-wing populism” in the Western world, which led to the United Kingdom’s referendum vote for its withdrawal from the European Union (better known as Brexit) in June as well as  the election of President Trump in November. At the heart of these great political upsets, it is suggested, lies people’s frustration towards as well as rejection of the rule of global liberal capitalism and, more specifically, the threats of decreasing standard of living and loss of quality jobs allegedly by foreigners through immigration and outsourcing (e.g., building factorins in forieng countries where labor is cheaper). Meanwhile, others stress that increasing automation powered by artificial intelligence is a key threat to job stability, perhaps more significantly so than “bad” trade deals or immigrants. In the midst of such political turmoils, were all British people adequately and equally informed of all relevant facts? Were different news outlets telling different stories with varying emphases concerning key economic issues? My study will shed light on the role of media—newspapers, in particular—with respect to people’s worldview on which they make significant political decisions as well as the growing schism  between different groups with different channels to consume news stories. "
   ]
  },
  {
   "cell_type": "markdown",
   "metadata": {},
   "source": [
    "## ***How?***\n",
    "<400 words  \n",
    "My project seeks to examine the national discourse(s) in the UK the impacts of both globalization and automation on national economy and job market. More specifically, this project focuses on the published articls by different popular news organiations and how they have presented the relevant key terms to their audiences differently. Ideally, this project can use survey the entire corpus of all published newspaper articles in recent years.  However, for practical concerns, I will limit the scope of my study to the year of 2016 since this is the year when the major political event (the vote for Brexit) took place. Although this is admittedly an arbitrary range of time, I believe this analysis will provide some insight into the general persepctives of news organizations concerning the relevant issues. In addition, being an exploratory investigation into the subject matter, my project will limit its data collection to the top news organization in each country by circulation. Once these organizations are identified, I will use several key terms to filter out articles that are likely irrelevant to my study. The articles will be collected using web scraping codes and, if available, web API. I will save the corpus for each news organization and analyze them seperately. The results of analysis will be compared at the last."
   ]
  },
  {
   "cell_type": "markdown",
   "metadata": {},
   "source": [
    "## <span style=\"color:red\">*Pitch Your Sample*</span>\n",
    "\n",
    "<span style=\"color:red\">In the cell immediately following, describe the rationale behind your proposed sample design for your final project. What is the social game, social work, or social actors you about whom you are seeking to make inferences? What are its virtues with respect to your research questions? What are its limitations? What are alternatives? What would be a reasonable path to \"scale up\" your sample for further analysis (i.e., high-profile publication)? (<200 words)."
   ]
  },
  {
   "cell_type": "markdown",
   "metadata": {},
   "source": [
    "## ***Which (words)?***\n",
    "<300 words  \n",
    "I plan to use the corpora of articles published in 2016 by two leading news organizations with notably different audiences: The Daily Mail and The Guardian. This is because not only a newspaper's view on an issue is likely influenced by their target audience but also it likely shapes their audience’s view on the issue. In particular, the choice of these two media organizations, The Daily Mail and The Guardian, is informed by a conventioanl wisdom that the former is representative of the non-elite conservatives while the latter is favored by the elite liberals in the UK. In addition, these two are among the top newspapers in the country by circulation. That said, I expect that these newspapers and their contents provide a meaningful look into the differing views of their readers. More specifically, I will collect articles from each source that contain a set of selected keywords: artificial intelligence, automation, immigrants, international trade, globalization, and robots (this list of keywords is subject to change). Therefore, in sum, I will examine and compare two corpora: one consisting of The Daily Mail articles with the keywords and the other consisting of The Guardian articles with the keywords."
   ]
  },
  {
   "cell_type": "markdown",
   "metadata": {},
   "source": [
    "## <span style=\"color:red\">*Your turn*</span>\n",
    "\n",
    "<span style=\"color:red\">In the cells immediately following, demonstrate three approaches drawn from any of the last three weeks to create subsamples of your corpus (e.g., for crowd-sourced subcoding like we'll be doing this week). Methods of subsampling include (a) corpus linguistic approaches drawing on word presence or co-presence, conditional frequencies, weighted words (e.g., tf.idf), KL or JS divergences, etc.; (b) hierarchical or flat clustering approaches; (c) topic modeling; or (d) word-embedding. (<200 words).\n",
    "\n",
    "I will use the Latent Semantic Analysis method to illustrate the context embedding of each keyword as well as how the keywords relate to one another in each national corpus consisting of all articles collected from major newspapers in each country. Using word2vec modeling, I will generate word vectors for all keywords for both national corpora. Then the keyword vectors will be examined and compared to one another. To visually represent the pair-wise comparison between word vectors, I can generate a heatmap for each national corpus and analyze the similarities and differences between two heatmaps. Furthermore, I will construct a semantic dimension constructed using the keywords to project a set of selected words concerning and representing the economic reality."
   ]
  },
  {
   "cell_type": "markdown",
   "metadata": {},
   "source": [
    "## <span style=\"color:red\">*Your turn*</span>\n",
    "\n",
    "<span style=\"color:red\">Perform a content annotation survey of some kind in which at least 3 people evaluate and code each piece of content, using Amazon Mechanical Turk as described in the MTurk slides in the Assignment link on Chalk, or by hand with friends.  With the resulting data, calculate, visualize and discuss inter-coder agreement or covariation with appropriate metrics. What does this means for the reliability of human assessments regarding content in your domain?"
   ]
  },
  {
   "cell_type": "markdown",
   "metadata": {},
   "source": [
    "# My Annotation Dataset"
   ]
  },
  {
   "cell_type": "code",
   "execution_count": 89,
   "metadata": {
    "collapsed": false
   },
   "outputs": [],
   "source": [
    "x = np.array(pandas.read_csv('codes.txt', header = None))\n",
    "anno = AnnotationsContainer.from_array(x)\n",
    "y = np.array(pandas.read_csv('codes2.txt', header = None))\n",
    "anno2 = AnnotationsContainer.from_array(y)"
   ]
  },
  {
   "cell_type": "code",
   "execution_count": 90,
   "metadata": {
    "collapsed": false
   },
   "outputs": [
    {
     "name": "stdout",
     "output_type": "stream",
     "text": [
      "(5, 20)\n",
      "(50, 20)\n"
     ]
    }
   ],
   "source": [
    "print(x.shape)\n",
    "print(y.shape)"
   ]
  },
  {
   "cell_type": "markdown",
   "metadata": {},
   "source": [
    "Interrogate the AnnotationsContainer object."
   ]
  },
  {
   "cell_type": "code",
   "execution_count": 91,
   "metadata": {
    "collapsed": false
   },
   "outputs": [
    {
     "name": "stdout",
     "output_type": "stream",
     "text": [
      "[[0 2 4 3 0 2 4 1 2 0 4 1 4 2 2 2 2 2 2 2]\n",
      " [3 1 2 3 0 3 3 2 0 2 1 3 2 2 0 3 3 4 2 2]\n",
      " [1 1 0 4 3 3 2 2 4 2 4 0 4 0 1 3 4 2 2 3]\n",
      " [2 2 4 1 1 4 3 1 3 2 2 4 3 2 1 2 0 2 2 2]\n",
      " [2 2 1 2 3 2 1 2 3 1 0 2 3 1 4 3 1 3 1 3]]\n",
      "[[0 2 3 3 2 3 3 1 2 2 2 3 1 1 2 1 2 4 3 1]\n",
      " [2 2 3 4 1 2 1 3 2 1 2 3 4 2 2 3 1 2 1 1]\n",
      " [3 3 2 1 2 0 2 3 2 3 4 3 4 4 1 0 0 3 3 2]\n",
      " [3 3 3 1 2 2 2 3 2 0 2 3 3 2 3 0 2 1 0 2]\n",
      " [2 0 2 2 2 3 2 2 1 0 4 2 2 3 0 3 2 2 1 2]\n",
      " [2 2 2 2 2 4 2 2 2 2 1 2 3 3 4 0 2 0 2 2]\n",
      " [2 2 2 0 0 0 2 3 0 2 1 2 3 1 2 2 3 2 2 3]\n",
      " [1 4 0 2 3 1 4 4 2 0 2 2 2 2 1 3 0 0 1 3]\n",
      " [3 1 2 3 4 2 2 3 2 2 2 1 3 0 3 2 2 2 0 1]\n",
      " [2 2 1 3 4 4 1 4 2 1 2 1 3 2 3 1 1 2 3 2]\n",
      " [4 1 4 3 2 3 4 0 2 3 1 2 2 3 2 0 2 2 2 3]\n",
      " [0 3 3 2 1 2 1 2 1 2 1 3 3 1 0 3 1 2 2 4]\n",
      " [2 2 2 3 1 3 0 2 0 1 1 3 2 0 2 2 3 3 3 4]\n",
      " [3 2 2 2 0 1 4 2 2 4 0 1 3 2 3 3 1 1 2 3]\n",
      " [1 0 0 0 1 2 3 3 4 1 2 1 0 2 0 1 3 1 2 1]\n",
      " [4 4 2 3 3 1 3 4 3 2 3 3 1 4 0 4 2 2 3 2]\n",
      " [1 1 2 3 1 2 1 2 3 0 1 1 0 0 3 2 0 1 3 1]\n",
      " [0 2 1 2 2 2 2 1 2 3 2 4 0 1 1 1 2 4 2 2]\n",
      " [3 2 1 1 2 1 2 1 2 1 2 0 2 2 2 2 2 1 1 3]\n",
      " [2 3 2 3 2 1 2 0 1 3 4 1 4 4 2 1 1 3 3 1]\n",
      " [2 1 4 2 4 1 3 2 2 4 0 2 2 2 3 1 3 3 2 2]\n",
      " [3 2 2 2 4 1 4 2 2 0 1 4 1 2 3 1 0 2 0 3]\n",
      " [4 1 1 1 2 3 3 2 2 2 1 0 2 3 2 2 0 3 4 0]\n",
      " [2 0 2 3 0 3 2 3 2 1 3 3 4 1 2 3 2 1 2 2]\n",
      " [2 2 3 1 1 3 3 3 1 1 3 2 4 2 3 3 2 3 2 4]\n",
      " [2 1 3 3 0 2 1 4 2 1 1 2 2 1 1 1 2 2 2 1]\n",
      " [1 3 0 3 2 2 3 1 4 1 2 1 3 4 4 2 2 2 2 2]\n",
      " [1 4 1 3 2 2 4 2 3 0 2 2 0 3 3 0 2 1 4 2]\n",
      " [4 1 2 1 2 4 1 2 2 2 2 4 2 3 3 2 4 3 3 4]\n",
      " [2 2 3 1 1 2 4 3 1 3 1 3 1 2 2 3 1 2 2 4]\n",
      " [0 2 1 2 3 3 2 2 3 1 2 3 2 2 3 2 3 4 1 2]\n",
      " [4 2 2 2 2 1 3 3 0 2 4 0 2 1 2 2 2 0 2 4]\n",
      " [1 2 2 2 3 3 4 3 2 1 2 3 0 3 3 2 3 2 2 1]\n",
      " [1 2 4 2 2 3 4 1 2 2 2 3 1 2 0 2 2 2 4 2]\n",
      " [2 2 4 2 1 3 2 1 2 4 1 4 3 1 1 3 2 0 2 3]\n",
      " [3 3 3 2 1 2 1 2 3 3 2 3 4 2 4 3 3 2 2 0]\n",
      " [2 0 2 3 3 2 2 1 2 2 2 0 1 2 4 4 2 4 2 0]\n",
      " [0 1 2 1 0 2 3 2 3 2 1 3 2 2 2 3 1 1 2 4]\n",
      " [3 3 3 2 2 3 2 3 4 0 0 1 2 0 1 1 2 3 0 2]\n",
      " [1 1 4 2 2 3 2 3 2 1 1 2 1 2 3 2 2 2 1 3]\n",
      " [1 3 1 2 2 2 0 2 4 2 2 0 2 2 3 3 0 2 2 2]\n",
      " [1 1 2 2 3 3 0 2 1 3 0 4 2 1 3 2 2 3 0 2]\n",
      " [2 2 1 4 1 2 2 3 1 0 2 2 2 2 1 1 0 2 3 2]\n",
      " [0 2 0 1 2 4 3 2 2 0 3 1 3 1 2 2 3 2 2 3]\n",
      " [3 0 3 2 0 2 1 2 1 1 2 2 1 2 0 2 3 3 3 4]\n",
      " [3 4 1 1 2 2 4 2 0 2 1 2 1 3 2 4 2 3 2 2]\n",
      " [3 3 2 3 2 3 3 0 3 3 2 1 2 1 2 1 2 2 1 4]\n",
      " [4 0 2 2 4 2 0 1 2 2 1 1 3 3 1 3 1 1 3 1]\n",
      " [2 2 3 1 0 1 3 3 2 3 2 0 1 4 4 2 3 2 2 2]\n",
      " [3 2 4 2 2 1 2 0 1 3 3 2 1 1 1 2 2 2 4 3]]\n"
     ]
    }
   ],
   "source": [
    "print(anno.annotations)\n",
    "print(anno2.annotations)"
   ]
  },
  {
   "cell_type": "code",
   "execution_count": 92,
   "metadata": {
    "collapsed": false
   },
   "outputs": [
    {
     "name": "stdout",
     "output_type": "stream",
     "text": [
      "[0, 1, 2, 3, 4]\n",
      "[0, 1, 2, 3, 4]\n"
     ]
    }
   ],
   "source": [
    "print(anno.labels)\n",
    "print(anno2.labels)"
   ]
  },
  {
   "cell_type": "code",
   "execution_count": 7,
   "metadata": {
    "collapsed": false
   },
   "outputs": [
    {
     "data": {
      "text/plain": [
       "[]"
      ]
     },
     "execution_count": 7,
     "metadata": {},
     "output_type": "execute_result"
    }
   ],
   "source": [
    "anno.missing_values"
   ]
  },
  {
   "cell_type": "markdown",
   "metadata": {},
   "source": [
    "# Annotation Statistics"
   ]
  },
  {
   "cell_type": "markdown",
   "metadata": {},
   "source": [
    "First, we assume categorical codes...that each code is qualitatively distinct from each other. Two measures are primarily used for this: Scott's $\\pi$, Cohen's $\\kappa$, and Krippendorff's $\\alpha$ which each measure the extent of agreement between two annotators, but take into account the possibility of the agreement occurring by chance in slightly different ways. Any agreement measure begins with the frequency of codes:"
   ]
  },
  {
   "cell_type": "code",
   "execution_count": 93,
   "metadata": {
    "collapsed": false
   },
   "outputs": [
    {
     "name": "stdout",
     "output_type": "stream",
     "text": [
      "[ 0.11  0.17  0.37  0.21  0.14]\n",
      "[ 0.097  0.2    0.39   0.22   0.093]\n"
     ]
    }
   ],
   "source": [
    "print(pyanno.measures.agreement.labels_frequency(anno.annotations,5))\n",
    "print(pyanno.measures.agreement.labels_frequency(anno2.annotations,5))"
   ]
  },
  {
   "cell_type": "code",
   "execution_count": 132,
   "metadata": {
    "collapsed": false
   },
   "outputs": [
    {
     "name": "stdout",
     "output_type": "stream",
     "text": [
      "[[ 0.  0.  1.  0.  0.]\n",
      " [ 0.  1.  0.  0.  0.]\n",
      " [ 0.  0.  2.  0.  0.]\n",
      " [ 0.  1.  0.  0.  0.]\n",
      " [ 0.  0.  0.  0.  0.]]\n",
      "[[  0.   1.   4.   1.   0.]\n",
      " [  1.   3.   2.   2.   2.]\n",
      " [  3.   2.  10.   1.   0.]\n",
      " [  1.   1.   4.   5.   1.]\n",
      " [  1.   3.   1.   0.   1.]]\n"
     ]
    },
    {
     "data": {
      "image/png": "[encoded data removed]",
      "text/plain": [
       "<matplotlib.figure.Figure at 0x7f4742017780>"
      ]
     },
     "metadata": {},
     "output_type": "display_data"
    },
    {
     "data": {
      "image/png": "[encoded data removed]",
      "text/plain": [
       "<matplotlib.figure.Figure at 0x7f47420dfcc0>"
      ]
     },
     "metadata": {},
     "output_type": "display_data"
    }
   ],
   "source": [
    "# plot confusion matrix\n",
    "c = pyanno.measures.agreement.confusion_matrix(anno.annotations[:,0], anno.annotations[:,1],5)\n",
    "c2 = pyanno.measures.agreement.confusion_matrix(anno2.annotations[:,0], anno2.annotations[:,1],5)\n",
    "print(c)\n",
    "print(c2)\n",
    "ac = seaborn.heatmap(c)\n",
    "plt.show()\n",
    "ac2 = seaborn.heatmap(c2)\n",
    "plt.show()"
   ]
  },
  {
   "cell_type": "code",
   "execution_count": 95,
   "metadata": {
    "collapsed": false
   },
   "outputs": [
    {
     "name": "stdout",
     "output_type": "stream",
     "text": [
      "0.375\n",
      "0.17837264776\n"
     ]
    }
   ],
   "source": [
    "# Scott's pi between first and second 'coders'\n",
    "print(scotts_pi(anno.annotations[:,0], anno.annotations[:,1]))\n",
    "print(scotts_pi(anno2.annotations[:,0], anno2.annotations[:,1]))"
   ]
  },
  {
   "cell_type": "code",
   "execution_count": 96,
   "metadata": {
    "collapsed": false
   },
   "outputs": [
    {
     "name": "stdout",
     "output_type": "stream",
     "text": [
      "-0.00488563180102\n",
      "-0.00927083908611\n"
     ]
    }
   ],
   "source": [
    "# Fleiss' kappa\n",
    "print(fleiss_kappa(anno.annotations[::]))\n",
    "print(fleiss_kappa(anno2.annotations[::]))"
   ]
  },
  {
   "cell_type": "code",
   "execution_count": 97,
   "metadata": {
    "collapsed": false
   },
   "outputs": [
    {
     "name": "stdout",
     "output_type": "stream",
     "text": [
      "-0.0360199769497\n",
      "-1.32041091188e-05\n"
     ]
    }
   ],
   "source": [
    "# Krippendorff's alpha\n",
    "print(krippendorffs_alpha(anno.annotations[::]))\n",
    "print(krippendorffs_alpha(anno2.annotations[::]))"
   ]
  },
  {
   "cell_type": "code",
   "execution_count": 98,
   "metadata": {
    "collapsed": false
   },
   "outputs": [
    {
     "name": "stdout",
     "output_type": "stream",
     "text": [
      "0.411764705882\n",
      "0.182489451477\n"
     ]
    }
   ],
   "source": [
    "# Cohne's kappa between first and second 'coders'\n",
    "print(cohens_kappa(anno.annotations[:,0], anno.annotations[:,1]))\n",
    "print(cohens_kappa(anno2.annotations[:,0], anno2.annotations[:,1]))"
   ]
  },
  {
   "cell_type": "code",
   "execution_count": 99,
   "metadata": {
    "collapsed": false
   },
   "outputs": [
    {
     "data": {
      "image/png": "[encoded data removed]",
      "text/plain": [
       "<matplotlib.figure.Figure at 0x7f4746891eb8>"
      ]
     },
     "metadata": {},
     "output_type": "display_data"
    },
    {
     "data": {
      "image/png": "[encoded data removed]",
      "text/plain": [
       "<matplotlib.figure.Figure at 0x7f4743b38550>"
      ]
     },
     "metadata": {},
     "output_type": "display_data"
    }
   ],
   "source": [
    "# plot both heatmaps (top: Scott's pi, bottom: Cohen's kappa)\n",
    "mp = pairwise_matrix(scotts_pi, anno.annotations)\n",
    "mk = pairwise_matrix(cohens_kappa, anno.annotations)\n",
    "seaborn.heatmap(mp)\n",
    "plt.show()\n",
    "seaborn.heatmap(mk)\n",
    "plt.show()"
   ]
  },
  {
   "cell_type": "code",
   "execution_count": 100,
   "metadata": {
    "collapsed": false
   },
   "outputs": [
    {
     "data": {
      "image/png": "[encoded data removed]",
      "text/plain": [
       "<matplotlib.figure.Figure at 0x7f4742137b00>"
      ]
     },
     "metadata": {},
     "output_type": "display_data"
    },
    {
     "data": {
      "image/png": "[encoded data removed]",
      "text/plain": [
       "<matplotlib.figure.Figure at 0x7f47447a4d68>"
      ]
     },
     "metadata": {},
     "output_type": "display_data"
    }
   ],
   "source": [
    "# plot both heatmaps (top: Scott's pi, bottom: Cohen's kappa)\n",
    "mp2 = pairwise_matrix(scotts_pi, anno2.annotations)\n",
    "mk2 = pairwise_matrix(cohens_kappa, anno2.annotations)\n",
    "seaborn.heatmap(mp2)\n",
    "plt.show()\n",
    "seaborn.heatmap(mk2)\n",
    "plt.show()"
   ]
  },
  {
   "cell_type": "markdown",
   "metadata": {},
   "source": [
    "One can also assess the average Cohen's $\\kappa$ for all pairs of coders that have coded against one another:"
   ]
  },
  {
   "cell_type": "code",
   "execution_count": 101,
   "metadata": {
    "collapsed": false
   },
   "outputs": [
    {
     "name": "stdout",
     "output_type": "stream",
     "text": [
      "0.00385983465545\n",
      "-0.00852410768974\n"
     ]
    }
   ],
   "source": [
    "def pairwise_metric_average(metric, array):\n",
    "    \"\"\"Calculate the pairwise metric average for the real elements of metric function run on an array of annotations\"\"\"\n",
    "    p = permutations(range(array[0,:].size),2)\n",
    "    m = [metric(array[:,x[0]], array[:,x[1]]) for x in p]\n",
    "    clean_m = [c for c in m if not math.isnan(c)]\n",
    "    return reduce(lambda a, b: a + b, clean_m)/len(clean_m)    \n",
    " \n",
    "print(pairwise_metric_average(cohens_kappa, anno.annotations))\n",
    "print(pairwise_metric_average(cohens_kappa, anno2.annotations))"
   ]
  },
  {
   "cell_type": "code",
   "execution_count": 102,
   "metadata": {
    "collapsed": false
   },
   "outputs": [
    {
     "name": "stdout",
     "output_type": "stream",
     "text": [
      "0.0909090909091\n",
      "0.0634920634921\n"
     ]
    }
   ],
   "source": [
    "# Cohen's weighted kappa\n",
    "print(cohens_weighted_kappa(anno.annotations[:,0], anno.annotations[:,1]))\n",
    "print(cohens_weighted_kappa(anno2.annotations[:,0], anno2.annotations[:,1]))"
   ]
  },
  {
   "cell_type": "markdown",
   "metadata": {},
   "source": [
    "Or averaged over the total:"
   ]
  },
  {
   "cell_type": "code",
   "execution_count": 103,
   "metadata": {
    "collapsed": false
   },
   "outputs": [
    {
     "name": "stdout",
     "output_type": "stream",
     "text": [
      "-0.0175124199889\n",
      "-0.00650668932483\n"
     ]
    }
   ],
   "source": [
    "print(pairwise_metric_average(cohens_weighted_kappa,anno.annotations))\n",
    "print(pairwise_metric_average(cohens_weighted_kappa,anno2.annotations))"
   ]
  },
  {
   "cell_type": "markdown",
   "metadata": {},
   "source": [
    "Alternatively, if the annontation data can be understood as indicating real values, we can assess not agreement, but rather the correlation of values (Pearson's $\\rho$) or correlation of ranks (Spearman's $\\rho$) for pairs of coders:"
   ]
  },
  {
   "cell_type": "code",
   "execution_count": 41,
   "metadata": {
    "collapsed": false
   },
   "outputs": [
    {
     "data": {
      "image/png": "[encoded data removed]",
      "text/plain": [
       "<matplotlib.figure.Figure at 0x7f47446eec88>"
      ]
     },
     "metadata": {},
     "output_type": "display_data"
    },
    {
     "data": {
      "image/png": "[encoded data removed]",
      "text/plain": [
       "<matplotlib.figure.Figure at 0x7f4744623358>"
      ]
     },
     "metadata": {},
     "output_type": "display_data"
    }
   ],
   "source": [
    "# plot both heatmaps (top: Person's rho, bottom: Spearman's rho)\n",
    "n = pairwise_matrix(pearsons_rho, anno.annotations)\n",
    "m = pairwise_matrix(spearmans_rho, anno.annotations)\n",
    "an = seaborn.heatmap(n)\n",
    "plt.show()\n",
    "am = seaborn.heatmap(m)\n",
    "plt.show()"
   ]
  },
  {
   "cell_type": "code",
   "execution_count": 104,
   "metadata": {
    "collapsed": false
   },
   "outputs": [
    {
     "data": {
      "image/png": "[encoded data removed]",
      "text/plain": [
       "<matplotlib.figure.Figure at 0x7f47421b3ef0>"
      ]
     },
     "metadata": {},
     "output_type": "display_data"
    },
    {
     "data": {
      "image/png": "[encoded data removed]",
      "text/plain": [
       "<matplotlib.figure.Figure at 0x7f4744367c88>"
      ]
     },
     "metadata": {},
     "output_type": "display_data"
    }
   ],
   "source": [
    "# plot both heatmaps (top: Person's rho, bottom: Spearman's rho)\n",
    "n2 = pairwise_matrix(pearsons_rho, anno2.annotations)\n",
    "m2 = pairwise_matrix(spearmans_rho, anno2.annotations)\n",
    "an2 = seaborn.heatmap(n2)\n",
    "plt.show()\n",
    "am2 = seaborn.heatmap(m2)\n",
    "plt.show()"
   ]
  },
  {
   "cell_type": "markdown",
   "metadata": {},
   "source": [
    "Or averaged over all comparable pairs:"
   ]
  },
  {
   "cell_type": "code",
   "execution_count": 105,
   "metadata": {
    "collapsed": false
   },
   "outputs": [
    {
     "name": "stdout",
     "output_type": "stream",
     "text": [
      "-0.0399041526827 -0.0369840988924\n",
      "-0.00132610330239 -0.000504921283098\n"
     ]
    }
   ],
   "source": [
    "print(pairwise_metric_average(pearsons_rho,anno.annotations), pairwise_metric_average(spearmans_rho,anno.annotations))\n",
    "print(pairwise_metric_average(pearsons_rho,anno2.annotations), pairwise_metric_average(spearmans_rho,anno2.annotations))"
   ]
  },
  {
   "cell_type": "markdown",
   "metadata": {},
   "source": [
    "## <span style=\"color:red\">*Your turn*</span>\n",
    "\n",
    "<span style=\"color:red\">In the cells immediately following, use the results of your content annotation survey to predict high and low-quality analysts, then predict MAP estimates for your codes in question. What do these estimates suggest about the distribution of skill among your coders? How different are these estimates from a majority vote?"
   ]
  },
  {
   "cell_type": "markdown",
   "metadata": {},
   "source": [
    "# Models"
   ]
  },
  {
   "cell_type": "markdown",
   "metadata": {},
   "source": [
    "The models should provide similar results. To estimate the parameters for any models, we first need to create a new model. "
   ]
  },
  {
   "cell_type": "code",
   "execution_count": 136,
   "metadata": {
    "collapsed": false
   },
   "outputs": [
    {
     "name": "stdout",
     "output_type": "stream",
     "text": [
      "[ 0.70459557  0.91216283  0.74939011  0.63194201  0.8197296   0.71009125\n",
      "  0.68862806  0.60959089  0.94116423  0.87891184  0.75271425  0.77571965\n",
      "  0.71565027  0.89851445  0.7003969   0.6531678   0.69421061  0.74735658\n",
      "  0.7055235   0.86012016]\n",
      "-196.898916593\n",
      "-1920.42593605\n"
     ]
    }
   ],
   "source": [
    "# create a new instance of model Bt, with 5 label classes\n",
    "model = ModelBt.create_initial_state(5, 20)\n",
    "# other model parameters are initialized from the model prior\n",
    "print(model.theta)\n",
    "print(model.log_likelihood(anno.annotations))\n",
    "print(model.log_likelihood(anno2.annotations))"
   ]
  },
  {
   "cell_type": "markdown",
   "metadata": {},
   "source": [
    "Pyanno allows one to use either MLE (maximum likelihood estimation) or MAP (maximum a posteriori estimation) to estimate model parameters. Note that the parameters here correspond to our estimation of the accuracy of each annotator."
   ]
  },
  {
   "cell_type": "markdown",
   "metadata": {},
   "source": [
    "Once we have model parameters estimated, we can now make inferences about the true label classes. We can calculate the posterior distribution over the true label classes."
   ]
  },
  {
   "cell_type": "code",
   "execution_count": 137,
   "metadata": {
    "collapsed": false
   },
   "outputs": [
    {
     "name": "stdout",
     "output_type": "stream",
     "text": [
      "[ 0.75377526  0.59323968  0.44187958  0.61532597  0.44290356  0.53167066\n",
      "  0.40689979  0.50603069  0.60167501  0.90781018  0.63320937  0.45149525\n",
      "  0.60021598  0.79979232  0.404214    0.77563169  0.66099703  0.84429427\n",
      "  0.88936437  0.94403263]\n",
      "-165.451379377\n",
      "[[  4.56574592e-09   2.33287994e-13   9.99999995e-01   1.61340787e-10\n",
      "    7.77924060e-13]\n",
      " [  5.12295502e-08   2.29905315e-10   9.97114499e-01   2.88544921e-03\n",
      "    1.54520251e-11]\n",
      " [  5.44431459e-05   3.67970302e-07   9.62650269e-01   3.72919571e-02\n",
      "    2.96265969e-06]\n",
      " [  4.04788475e-12   6.82170971e-13   1.00000000e+00   4.37783238e-10\n",
      "    1.78201820e-14]\n",
      " [  3.44325925e-07   3.97335389e-04   1.33175450e-02   9.86284775e-01\n",
      "    9.81254260e-11]]\n"
     ]
    }
   ],
   "source": [
    "model.map(anno.annotations)\n",
    "print(model.theta)\n",
    "print(model.log_likelihood(anno.annotations))\n",
    "posterior = model.infer_labels(anno.annotations)\n",
    "print(posterior)"
   ]
  },
  {
   "cell_type": "code",
   "execution_count": 138,
   "metadata": {
    "collapsed": false
   },
   "outputs": [
    {
     "data": {
      "image/png": "[encoded data removed]",
      "text/plain": [
       "<matplotlib.figure.Figure at 0x7f4741d617f0>"
      ]
     },
     "metadata": {},
     "output_type": "display_data"
    }
   ],
   "source": [
    "# plot the posterior with ModelBt\n",
    "ax = seaborn.heatmap(posterior[::])\n",
    "plt.show()"
   ]
  },
  {
   "cell_type": "code",
   "execution_count": 139,
   "metadata": {
    "collapsed": false
   },
   "outputs": [
    {
     "name": "stdout",
     "output_type": "stream",
     "text": [
      "[ 0.28935863  0.53973574  0.35898371  0.61743505  0.57743884  0.26859822\n",
      "  0.43289798  0.32595876  0.47723667  0.36816245  0.59650201  0.36185647\n",
      "  0.31977739  0.31346823  0.26148037  0.44405927  0.55318074  0.50220487\n",
      "  0.29218418  0.5274585 ]\n",
      "-1536.35315444\n",
      "[[  2.40971224e-05   5.09669255e-03   9.78106761e-01   1.67724052e-02\n",
      "    4.45623358e-08]\n",
      " [  4.20392811e-05   2.17026469e-01   7.76770752e-01   6.16035912e-03\n",
      "    3.80904840e-07]\n",
      " [  3.34969435e-03   4.78978784e-03   6.41748969e-01   3.50109364e-01\n",
      "    2.18458535e-06]\n",
      " [  7.82141381e-05   6.02367262e-04   9.93383683e-01   5.93573093e-03\n",
      "    4.74767274e-09]\n",
      " [  7.32410930e-06   1.03675853e-05   9.99963384e-01   1.89217256e-05\n",
      "    2.08775145e-09]\n",
      " [  7.02103428e-07   1.17050049e-06   9.99997255e-01   8.72743148e-07\n",
      "    8.45553251e-11]\n",
      " [  3.08049070e-03   6.38892378e-04   9.90172641e-01   6.10796391e-03\n",
      "    1.21467491e-08]\n",
      " [  1.23903427e-02   2.41505688e-03   9.41981191e-01   4.32109544e-02\n",
      "    2.45556293e-06]\n",
      " [  1.27632587e-05   7.30794277e-04   9.98186650e-01   1.06977557e-03\n",
      "    1.72666114e-08]\n",
      " [  2.38843066e-05   4.96712342e-02   9.47140525e-01   3.16407934e-03\n",
      "    2.76879486e-07]\n",
      " [  2.05938141e-04   3.35965969e-03   9.68407222e-01   2.80269033e-02\n",
      "    2.77065581e-07]\n",
      " [  1.57987459e-04   8.11540758e-01   1.42534832e-01   4.57661947e-02\n",
      "    2.28247703e-07]\n",
      " [  3.59538499e-03   4.83485179e-02   3.63277575e-01   5.84777934e-01\n",
      "    5.88364225e-07]\n",
      " [  2.90712597e-03   2.17685780e-02   9.49353586e-01   2.59702319e-02\n",
      "    4.77742370e-07]\n",
      " [  1.74424400e-02   9.50902391e-01   1.84759189e-02   1.31789875e-02\n",
      "    2.63157033e-07]\n",
      " [  3.21306917e-05   2.27797793e-04   7.72054152e-02   9.22533196e-01\n",
      "    1.46023532e-06]\n",
      " [  3.52504470e-04   9.96038775e-01   1.32104771e-03   2.28766584e-03\n",
      "    6.63719081e-09]\n",
      " [  7.16324396e-07   3.04448613e-05   9.99966293e-01   2.54389786e-06\n",
      "    1.59784180e-09]\n",
      " [  2.38080228e-06   2.43491525e-03   9.97527083e-01   3.56203469e-05\n",
      "    7.83436528e-10]\n",
      " [  3.25055930e-04   5.25018076e-01   1.05862603e-01   3.68791718e-01\n",
      "    2.54718474e-06]\n",
      " [  1.86854583e-04   2.52865373e-03   9.84540618e-01   1.27432006e-02\n",
      "    6.73081737e-07]\n",
      " [  7.31506194e-04   7.28118059e-03   9.90141544e-01   1.84468478e-03\n",
      "    1.08449994e-06]\n",
      " [  6.91183019e-03   2.00951153e-01   7.70875690e-01   2.12610505e-02\n",
      "    2.76638386e-07]\n",
      " [  1.34088039e-03   3.26557444e-03   8.03549346e-01   1.91844126e-01\n",
      "    7.33997930e-08]\n",
      " [  7.82701696e-05   8.54484505e-02   1.47961864e-01   7.66510925e-01\n",
      "    4.90478223e-07]\n",
      " [  1.53839409e-04   7.45156344e-01   2.52790441e-01   1.89933444e-03\n",
      "    4.06336481e-08]\n",
      " [  1.36476733e-05   3.68849979e-04   9.94674210e-01   4.94324892e-03\n",
      "    4.29506734e-08]\n",
      " [  4.11869144e-04   1.57413015e-03   9.89643987e-01   8.36949492e-03\n",
      "    5.19169565e-07]\n",
      " [  1.89633491e-05   6.37355994e-03   9.92080567e-01   1.52521175e-03\n",
      "    1.69827481e-06]\n",
      " [  3.63001056e-05   9.36276482e-01   5.12888184e-02   1.23980303e-02\n",
      "    3.69367787e-07]\n",
      " [  4.27804569e-06   8.23110834e-05   9.94196243e-01   5.71715951e-03\n",
      "    7.91130597e-09]\n",
      " [  7.60854840e-05   2.21997237e-05   9.99838899e-01   6.27428069e-05\n",
      "    7.30614276e-08]\n",
      " [  8.17720860e-06   2.67916465e-04   9.90566551e-01   9.15734565e-03\n",
      "    9.91040023e-09]\n",
      " [  4.46988667e-08   6.79674492e-07   9.99998785e-01   4.90730488e-07\n",
      "    2.66050690e-10]\n",
      " [  1.20019152e-04   1.74838070e-02   9.76926969e-01   5.46894234e-03\n",
      "    2.62879316e-07]\n",
      " [  1.30928690e-04   1.77905733e-03   2.82772527e-01   7.15317429e-01\n",
      "    5.82879320e-08]\n",
      " [  5.27375515e-04   1.46789607e-04   9.97497496e-01   1.82818761e-03\n",
      "    1.51306623e-07]\n",
      " [  6.24139620e-04   9.11922686e-01   6.10178181e-02   2.64351226e-02\n",
      "    2.33628687e-07]\n",
      " [  1.23262939e-03   1.10639123e-03   9.70502998e-01   2.71579004e-02\n",
      "    8.08287277e-08]\n",
      " [  1.31322082e-06   1.56062298e-03   9.98327952e-01   1.10109528e-04\n",
      "    2.19564374e-09]\n",
      " [  3.32467760e-05   1.28560149e-05   9.99857881e-01   9.60138654e-05\n",
      "    2.64203884e-09]\n",
      " [  1.07014265e-03   6.64805264e-03   9.74366047e-01   1.79156972e-02\n",
      "    6.07668539e-08]\n",
      " [  5.53554293e-05   3.52706881e-03   9.96346070e-01   7.14828945e-05\n",
      "    2.31087015e-08]\n",
      " [  1.95499743e-04   2.23491042e-03   9.17029111e-01   8.05404535e-02\n",
      "    2.52061239e-08]\n",
      " [  3.22389488e-03   1.57710269e-02   9.31124893e-01   4.98798892e-02\n",
      "    2.95869563e-07]\n",
      " [  1.15350535e-04   1.84642887e-02   9.79649749e-01   1.76953238e-03\n",
      "    1.07889725e-06]\n",
      " [  5.22565197e-05   2.14608387e-03   7.60444083e-01   2.37357487e-01\n",
      "    9.00266464e-08]\n",
      " [  1.07389780e-03   8.93558118e-01   9.90278893e-02   6.33959649e-03\n",
      "    4.98224961e-07]\n",
      " [  1.07495954e-04   5.62018098e-04   9.93151562e-01   6.17890711e-03\n",
      "    1.67388686e-08]\n",
      " [  3.61401615e-06   1.77189899e-04   9.98945352e-01   8.73838678e-04\n",
      "    5.15791826e-09]]\n"
     ]
    }
   ],
   "source": [
    "model.map(anno2.annotations)\n",
    "print(model.theta)\n",
    "print(model.log_likelihood(anno2.annotations))\n",
    "posterior2 = model.infer_labels(anno2.annotations)\n",
    "print(posterior2)"
   ]
  },
  {
   "cell_type": "code",
   "execution_count": 140,
   "metadata": {
    "collapsed": false
   },
   "outputs": [
    {
     "data": {
      "image/png": "[encoded data removed]",
      "text/plain": [
       "<matplotlib.figure.Figure at 0x7f4743c67898>"
      ]
     },
     "metadata": {},
     "output_type": "display_data"
    }
   ],
   "source": [
    "# plot the posterior with ModelBt\n",
    "ax = seaborn.heatmap(posterior2[:20,])\n",
    "plt.show()"
   ]
  },
  {
   "cell_type": "code",
   "execution_count": 142,
   "metadata": {
    "collapsed": false
   },
   "outputs": [
    {
     "name": "stdout",
     "output_type": "stream",
     "text": [
      "[ 0.46550385  0.52287876  0.50610122  0.39765188  0.36749738  0.52163327\n",
      "  0.45665351  0.40041368  0.34472814  0.66525859  0.37897139  0.27406762\n",
      "  0.34828132  0.65940581  0.4084825   0.63369431  0.50769975  0.58697327\n",
      "  0.58193914  0.51506902]\n",
      "[ 0.17215301  0.1756207   0.21299666  0.17384541  0.13558415  0.17199796\n",
      "  0.16353746  0.17039707  0.13677119  0.2645427   0.14319102  0.1078143\n",
      "  0.15557783  0.1951271   0.19632129  0.15977412  0.17473655  0.14502202\n",
      "  0.15906894  0.14739521]\n",
      "[ 0.34394024  0.42826521  0.31409988  0.49517277  0.47186482  0.35279909\n",
      "  0.48055474  0.36094114  0.55414616  0.30567815  0.55858051  0.43355899\n",
      "  0.25139419  0.39222433  0.19984109  0.37261531  0.51528731  0.45323054\n",
      "  0.43087858  0.42910764]\n",
      "[ 0.05180521  0.05438231  0.07090647  0.05529701  0.06036482  0.05147684\n",
      "  0.07998962  0.08141755  0.07205652  0.03322989  0.05014088  0.07188954\n",
      "  0.06955788  0.07375054  0.03449362  0.05512989  0.03914829  0.0348531\n",
      "  0.07638682  0.06185128]\n"
     ]
    }
   ],
   "source": [
    "samples = model.sample_posterior_over_accuracy(anno.annotations, 200, burn_in_samples=100, thin_samples=3)\n",
    "print(samples.mean(axis=0))\n",
    "print(samples.std(axis=0))\n",
    "samples2 = model.sample_posterior_over_accuracy(anno2.annotations, 200, burn_in_samples=100, thin_samples=3)\n",
    "print(samples2.mean(axis=0))\n",
    "print(samples2.std(axis=0))"
   ]
  },
  {
   "cell_type": "markdown",
   "metadata": {},
   "source": [
    "Let's try everything again with ModelB"
   ]
  },
  {
   "cell_type": "code",
   "execution_count": 143,
   "metadata": {
    "collapsed": false
   },
   "outputs": [
    {
     "name": "stdout",
     "output_type": "stream",
     "text": [
      "[[[  6.05734147e-01   1.14396749e-01   2.27333625e-01   3.07252034e-02\n",
      "     2.18102757e-02]\n",
      "  [  1.12610733e-01   6.86848242e-01   4.77232921e-02   5.46950479e-02\n",
      "     9.81226847e-02]\n",
      "  [  3.30902616e-02   2.60086966e-01   5.20910536e-01   1.33599455e-01\n",
      "     5.23127811e-02]\n",
      "  [  2.86209683e-02   3.88960331e-02   1.90478915e-01   6.42309848e-01\n",
      "     9.96942359e-02]\n",
      "  [  8.11849617e-02   1.79686835e-02   7.42099434e-02   1.10110678e-01\n",
      "     7.16525733e-01]]\n",
      "\n",
      " [[  6.78222124e-01   2.57054857e-01   1.55260580e-02   3.30290140e-02\n",
      "     1.61679469e-02]\n",
      "  [  2.07317564e-01   6.38756044e-01   1.08120694e-01   1.95160623e-03\n",
      "     4.38540910e-02]\n",
      "  [  1.60494389e-02   4.21879634e-02   7.43367760e-01   1.50737464e-01\n",
      "     4.76573740e-02]\n",
      "  [  1.31224111e-02   8.29374337e-02   2.30878360e-01   4.94495078e-01\n",
      "     1.78566717e-01]\n",
      "  [  4.88542832e-02   5.10066602e-02   9.48971830e-02   1.40597152e-01\n",
      "     6.64644721e-01]]\n",
      "\n",
      " [[  5.67885143e-01   2.87283569e-01   1.14255879e-02   6.09082466e-02\n",
      "     7.24974537e-02]\n",
      "  [  1.10655273e-01   6.27791385e-01   8.51882979e-02   6.71026675e-02\n",
      "     1.09262377e-01]\n",
      "  [  4.22266441e-02   2.15880539e-01   5.64193372e-01   1.57825597e-01\n",
      "     1.98738486e-02]\n",
      "  [  3.53121884e-02   9.63573692e-02   2.20059040e-01   5.52695212e-01\n",
      "     9.55761907e-02]\n",
      "  [  2.30605701e-02   2.32097852e-02   1.04750238e-01   1.60262595e-01\n",
      "     6.88716811e-01]]\n",
      "\n",
      " [[  7.55242161e-01   1.03082270e-01   4.01420910e-02   8.42768346e-02\n",
      "     1.72566434e-02]\n",
      "  [  3.53010581e-01   3.21474996e-01   2.42846240e-01   6.10881468e-02\n",
      "     2.15800373e-02]\n",
      "  [  7.01519312e-02   1.82263247e-01   5.03076716e-01   1.88636283e-01\n",
      "     5.58718225e-02]\n",
      "  [  9.36445541e-02   1.07597188e-01   1.28925593e-01   5.08560190e-01\n",
      "     1.61272476e-01]\n",
      "  [  7.36248178e-02   7.98126710e-02   3.25932790e-02   1.38446913e-01\n",
      "     6.75522320e-01]]\n",
      "\n",
      " [[  6.53458271e-01   2.83442852e-01   4.46665620e-02   3.70466300e-03\n",
      "     1.47276525e-02]\n",
      "  [  2.23895077e-01   5.00146087e-01   6.37429608e-02   1.99844163e-01\n",
      "     1.23717123e-02]\n",
      "  [  1.28758857e-01   1.40057466e-01   6.17201543e-01   1.07165291e-01\n",
      "     6.81684406e-03]\n",
      "  [  5.64053640e-02   1.06499697e-01   1.25143458e-01   5.71470338e-01\n",
      "     1.40481143e-01]\n",
      "  [  2.04219920e-02   9.95483746e-02   1.74005494e-02   1.25205240e-01\n",
      "     7.37423844e-01]]\n",
      "\n",
      " [[  6.37462017e-01   8.87605581e-02   1.63802705e-01   6.02301875e-02\n",
      "     4.97445319e-02]\n",
      "  [  1.01631649e-01   7.03746591e-01   1.29478249e-01   4.05527873e-02\n",
      "     2.45907238e-02]\n",
      "  [  1.74785641e-02   3.83721314e-02   8.00475535e-01   3.82791462e-02\n",
      "     1.05394624e-01]\n",
      "  [  1.84316535e-02   5.64864834e-02   8.21105647e-02   6.69790205e-01\n",
      "     1.73181094e-01]\n",
      "  [  7.02472042e-02   9.17399064e-02   2.35937746e-02   1.32836721e-01\n",
      "     6.81582394e-01]]\n",
      "\n",
      " [[  6.71609282e-01   1.61405865e-01   6.65926986e-02   5.99975670e-02\n",
      "     4.03945874e-02]\n",
      "  [  2.11226063e-01   5.58326742e-01   1.02846080e-01   7.07831686e-02\n",
      "     5.68179466e-02]\n",
      "  [  8.93417689e-02   1.47424020e-01   6.26518137e-01   1.05510111e-01\n",
      "     3.12059627e-02]\n",
      "  [  8.77470420e-02   4.91632326e-02   2.06185052e-01   6.09561354e-01\n",
      "     4.73433192e-02]\n",
      "  [  2.82110974e-02   7.64440023e-02   1.74620528e-02   3.36290988e-01\n",
      "     5.41591860e-01]]\n",
      "\n",
      " [[  7.73596982e-01   1.36729047e-01   5.48881676e-02   2.34828427e-02\n",
      "     1.13029607e-02]\n",
      "  [  8.92067611e-02   7.99080800e-01   3.39376182e-02   5.67365325e-02\n",
      "     2.10382879e-02]\n",
      "  [  5.92008247e-02   1.23661658e-01   5.83010865e-01   1.06925920e-01\n",
      "     1.27200732e-01]\n",
      "  [  8.55726158e-03   4.25375620e-02   5.86640369e-02   7.92176349e-01\n",
      "     9.80647905e-02]\n",
      "  [  4.07006516e-02   8.59366603e-02   1.58993080e-01   1.57728291e-01\n",
      "     5.56641317e-01]]\n",
      "\n",
      " [[  7.85792144e-01   4.61486476e-02   1.57988349e-01   9.23890221e-03\n",
      "     8.31956783e-04]\n",
      "  [  1.89147205e-01   5.65894649e-01   1.69167042e-01   7.46446907e-02\n",
      "     1.14641312e-03]\n",
      "  [  5.38647887e-02   1.02151603e-01   6.25888127e-01   1.78576505e-01\n",
      "     3.95189765e-02]\n",
      "  [  1.61448669e-02   5.80590426e-02   1.29709062e-01   7.09694359e-01\n",
      "     8.63926691e-02]\n",
      "  [  8.79606176e-02   3.59027065e-02   1.58612757e-01   1.13004581e-01\n",
      "     6.04519338e-01]]\n",
      "\n",
      " [[  7.25251792e-01   1.66764891e-01   6.32997666e-02   3.76530687e-02\n",
      "     7.03048179e-03]\n",
      "  [  1.51147121e-01   6.51266357e-01   1.33985244e-01   6.16007652e-02\n",
      "     2.00051318e-03]\n",
      "  [  9.40403418e-02   1.00486984e-01   6.06953738e-01   1.27172945e-01\n",
      "     7.13459908e-02]\n",
      "  [  1.69788843e-02   3.67221267e-02   1.81045098e-01   6.20469401e-01\n",
      "     1.44784490e-01]\n",
      "  [  2.81508404e-02   3.43506891e-02   1.06175671e-01   1.58593047e-01\n",
      "     6.72729753e-01]]\n",
      "\n",
      " [[  6.77455328e-01   1.91400300e-01   2.77263404e-02   4.70416445e-02\n",
      "     5.63763872e-02]\n",
      "  [  2.67169542e-01   5.32975123e-01   9.94744490e-02   5.45300087e-02\n",
      "     4.58508773e-02]\n",
      "  [  3.47743914e-02   1.89534523e-01   6.17697021e-01   6.66823349e-02\n",
      "     9.13117300e-02]\n",
      "  [  3.23788830e-03   4.43318712e-02   2.15532855e-01   6.84470776e-01\n",
      "     5.24266100e-02]\n",
      "  [  6.03192493e-04   9.92126616e-03   1.07369553e-01   1.85686629e-01\n",
      "     6.96419360e-01]]\n",
      "\n",
      " [[  5.68893874e-01   2.81666052e-01   6.05273665e-02   1.18570278e-02\n",
      "     7.70556803e-02]\n",
      "  [  1.17959181e-01   7.28061758e-01   9.14543489e-02   6.02628728e-02\n",
      "     2.26183939e-03]\n",
      "  [  2.65122183e-02   1.16131434e-01   7.88066167e-01   3.18200318e-02\n",
      "     3.74701495e-02]\n",
      "  [  3.44283199e-02   9.01549967e-02   1.87659754e-01   5.29234069e-01\n",
      "     1.58522860e-01]\n",
      "  [  7.04739377e-03   2.51485364e-02   4.15851276e-02   1.44080388e-01\n",
      "     7.82138554e-01]]\n",
      "\n",
      " [[  7.37150602e-01   9.90563742e-02   6.23577446e-02   2.91827530e-02\n",
      "     7.22525265e-02]\n",
      "  [  1.89381027e-01   5.83954306e-01   9.72969366e-02   8.16331125e-02\n",
      "     4.77346181e-02]\n",
      "  [  2.59872603e-02   6.61506883e-02   5.88886795e-01   2.18465279e-01\n",
      "     1.00509977e-01]\n",
      "  [  1.25847278e-02   9.31880827e-02   7.35341134e-02   6.37410340e-01\n",
      "     1.83282736e-01]\n",
      "  [  9.77616457e-03   5.27356390e-02   4.49143637e-02   2.08769083e-01\n",
      "     6.83804750e-01]]\n",
      "\n",
      " [[  5.69297248e-01   2.19406041e-01   1.50242470e-01   5.98801184e-02\n",
      "     1.17412235e-03]\n",
      "  [  2.87988697e-01   5.00356319e-01   1.09069946e-01   9.30002902e-02\n",
      "     9.58474752e-03]\n",
      "  [  6.73932968e-02   1.03668524e-01   4.03363071e-01   1.95744801e-01\n",
      "     2.29830307e-01]\n",
      "  [  3.90224837e-02   8.68792244e-02   1.61974043e-01   6.62691211e-01\n",
      "     4.94330381e-02]\n",
      "  [  1.31310932e-01   5.59110810e-02   1.10233138e-01   8.39450441e-02\n",
      "     6.18599805e-01]]\n",
      "\n",
      " [[  6.67244142e-01   1.97327576e-01   1.11196640e-01   1.35899632e-02\n",
      "     1.06416784e-02]\n",
      "  [  2.43298391e-01   4.58088995e-01   1.19497808e-01   1.56028245e-01\n",
      "     2.30865614e-02]\n",
      "  [  6.80813310e-02   1.77880575e-01   6.27731883e-01   1.16302059e-01\n",
      "     1.00041520e-02]\n",
      "  [  4.89074996e-03   5.35350246e-02   1.45973330e-01   6.56023320e-01\n",
      "     1.39577575e-01]\n",
      "  [  1.59637028e-03   1.15255361e-01   7.02988873e-02   1.30269109e-01\n",
      "     6.82580272e-01]]\n",
      "\n",
      " [[  5.61662874e-01   2.90630369e-01   8.60019845e-02   4.99484960e-02\n",
      "     1.17562759e-02]\n",
      "  [  2.90557200e-01   4.85958213e-01   6.24184942e-02   2.34295706e-02\n",
      "     1.37636522e-01]\n",
      "  [  5.53146427e-02   9.51937250e-02   6.40070933e-01   7.87648164e-02\n",
      "     1.30655883e-01]\n",
      "  [  5.86181541e-03   3.49321744e-02   2.11282997e-01   5.28602765e-01\n",
      "     2.19320249e-01]\n",
      "  [  7.23388879e-02   1.67625993e-02   7.89029865e-02   3.16584038e-01\n",
      "     5.15411488e-01]]\n",
      "\n",
      " [[  6.45517288e-01   2.05741609e-01   2.87503482e-02   8.20919401e-02\n",
      "     3.78988151e-02]\n",
      "  [  1.29736942e-01   6.46117390e-01   5.78669359e-02   7.54339873e-02\n",
      "     9.08447442e-02]\n",
      "  [  3.07908428e-02   1.17060614e-01   6.28912285e-01   1.99751308e-01\n",
      "     2.34849507e-02]\n",
      "  [  4.23187664e-02   1.56753345e-01   1.19415162e-01   5.98729010e-01\n",
      "     8.27837162e-02]\n",
      "  [  6.83922915e-02   5.81852865e-02   8.55051238e-02   1.60326848e-01\n",
      "     6.27590450e-01]]\n",
      "\n",
      " [[  6.59588450e-01   2.02415848e-01   2.03217790e-02   4.34363315e-02\n",
      "     7.42375918e-02]\n",
      "  [  2.57062239e-01   6.13814814e-01   9.36778239e-02   2.22903284e-02\n",
      "     1.31547949e-02]\n",
      "  [  3.70851051e-02   5.28613961e-02   6.67097066e-01   1.92006944e-01\n",
      "     5.09494892e-02]\n",
      "  [  1.29214465e-01   3.95549681e-02   1.67556617e-01   5.52457129e-01\n",
      "     1.11216821e-01]\n",
      "  [  4.34113324e-02   6.18865897e-02   1.27985978e-01   3.56375488e-01\n",
      "     4.10340612e-01]]\n",
      "\n",
      " [[  6.04634746e-01   2.10694172e-01   9.14494700e-02   5.54479259e-02\n",
      "     3.77736865e-02]\n",
      "  [  1.07883923e-01   5.71415740e-01   2.22739782e-01   7.72074218e-02\n",
      "     2.07531331e-02]\n",
      "  [  4.23618518e-02   2.86064432e-01   5.22307173e-01   7.66078001e-02\n",
      "     7.26587425e-02]\n",
      "  [  2.31721601e-03   9.21338238e-02   2.38345533e-01   5.22021972e-01\n",
      "     1.45181456e-01]\n",
      "  [  7.61906852e-03   3.32518126e-02   3.63355418e-02   8.36333651e-02\n",
      "     8.39160212e-01]]\n",
      "\n",
      " [[  7.47156557e-01   7.16469934e-02   9.09497806e-02   3.53019817e-02\n",
      "     5.49446874e-02]\n",
      "  [  9.91283106e-02   6.40316751e-01   1.18700660e-01   1.32557019e-01\n",
      "     9.29725996e-03]\n",
      "  [  1.22957739e-01   2.32038194e-01   4.41381141e-01   1.82940164e-01\n",
      "     2.06827609e-02]\n",
      "  [  3.77583435e-02   2.39737762e-02   1.92063231e-01   5.77391576e-01\n",
      "     1.68813073e-01]\n",
      "  [  4.09264839e-02   1.41250320e-02   6.79523553e-02   1.12416019e-01\n",
      "     7.64580110e-01]]]\n",
      "-189.823468187\n",
      "-1819.91973917\n"
     ]
    }
   ],
   "source": [
    "# create a new instance of model B, with 5 label classes and 20 annotators.\n",
    "model = ModelB.create_initial_state(5, 20)\n",
    "print(model.theta)\n",
    "print(model.log_likelihood(anno.annotations))\n",
    "print(model.log_likelihood(anno2.annotations))"
   ]
  },
  {
   "cell_type": "code",
   "execution_count": 144,
   "metadata": {
    "collapsed": false
   },
   "outputs": [
    {
     "name": "stdout",
     "output_type": "stream",
     "text": [
      "[[[ 0.78947368  0.15789474  0.05263158  0.          0.        ]\n",
      "  [ 0.13636364  0.68181818  0.13636364  0.04545455  0.        ]\n",
      "  [ 0.07142857  0.14285714  0.60714286  0.14285714  0.03571429]\n",
      "  [ 0.          0.04545455  0.13636364  0.68181818  0.13636364]\n",
      "  [ 0.          0.          0.05263158  0.15789474  0.78947368]]\n",
      "\n",
      " [[ 0.78947368  0.15789474  0.05263158  0.          0.        ]\n",
      "  [ 0.13636364  0.68181818  0.13636364  0.04545455  0.        ]\n",
      "  [ 0.03571429  0.17857143  0.64285714  0.10714286  0.03571429]\n",
      "  [ 0.          0.04545455  0.13636364  0.68181818  0.13636364]\n",
      "  [ 0.          0.          0.05263158  0.15789474  0.78947368]]\n",
      "\n",
      " [[ 0.78947368  0.15789474  0.05263158  0.          0.        ]\n",
      "  [ 0.13636364  0.68181818  0.13636364  0.04545455  0.        ]\n",
      "  [ 0.07142857  0.14285714  0.57142857  0.10714286  0.10714286]\n",
      "  [ 0.          0.04545455  0.13636364  0.68181818  0.13636364]\n",
      "  [ 0.          0.          0.05263158  0.15789474  0.78947368]]\n",
      "\n",
      " [[ 0.78947368  0.15789474  0.05263158  0.          0.        ]\n",
      "  [ 0.13636364  0.68181818  0.13636364  0.04545455  0.        ]\n",
      "  [ 0.03571429  0.14285714  0.57142857  0.17857143  0.07142857]\n",
      "  [ 0.          0.04545455  0.13636364  0.68181818  0.13636364]\n",
      "  [ 0.          0.          0.05263158  0.15789474  0.78947368]]\n",
      "\n",
      " [[ 0.78947368  0.15789474  0.05263158  0.          0.        ]\n",
      "  [ 0.13636364  0.68181818  0.13636364  0.04545455  0.        ]\n",
      "  [ 0.10714286  0.14285714  0.53571429  0.17857143  0.03571429]\n",
      "  [ 0.          0.04545455  0.13636364  0.68181818  0.13636364]\n",
      "  [ 0.          0.          0.05263158  0.15789474  0.78947368]]\n",
      "\n",
      " [[ 0.78947368  0.15789474  0.05263158  0.          0.        ]\n",
      "  [ 0.13636364  0.68181818  0.13636364  0.04545455  0.        ]\n",
      "  [ 0.03571429  0.10714286  0.60714286  0.17857143  0.07142857]\n",
      "  [ 0.          0.04545455  0.13636364  0.68181818  0.13636364]\n",
      "  [ 0.          0.          0.05263158  0.15789474  0.78947368]]\n",
      "\n",
      " [[ 0.78947368  0.15789474  0.05263158  0.          0.        ]\n",
      "  [ 0.13636364  0.68181818  0.13636364  0.04545455  0.        ]\n",
      "  [ 0.03571429  0.14285714  0.57142857  0.17857143  0.07142857]\n",
      "  [ 0.          0.04545455  0.13636364  0.68181818  0.13636364]\n",
      "  [ 0.          0.          0.05263158  0.15789474  0.78947368]]\n",
      "\n",
      " [[ 0.78947368  0.15789474  0.05263158  0.          0.        ]\n",
      "  [ 0.13636364  0.68181818  0.13636364  0.04545455  0.        ]\n",
      "  [ 0.03571429  0.17857143  0.64285714  0.10714286  0.03571429]\n",
      "  [ 0.          0.04545455  0.13636364  0.68181818  0.13636364]\n",
      "  [ 0.          0.          0.05263158  0.15789474  0.78947368]]\n",
      "\n",
      " [[ 0.78947368  0.15789474  0.05263158  0.          0.        ]\n",
      "  [ 0.13636364  0.68181818  0.13636364  0.04545455  0.        ]\n",
      "  [ 0.07142857  0.10714286  0.57142857  0.17857143  0.07142857]\n",
      "  [ 0.          0.04545455  0.13636364  0.68181818  0.13636364]\n",
      "  [ 0.          0.          0.05263158  0.15789474  0.78947368]]\n",
      "\n",
      " [[ 0.78947368  0.15789474  0.05263158  0.          0.        ]\n",
      "  [ 0.13636364  0.68181818  0.13636364  0.04545455  0.        ]\n",
      "  [ 0.07142857  0.14285714  0.64285714  0.10714286  0.03571429]\n",
      "  [ 0.          0.04545455  0.13636364  0.68181818  0.13636364]\n",
      "  [ 0.          0.          0.05263158  0.15789474  0.78947368]]\n",
      "\n",
      " [[ 0.78947368  0.15789474  0.05263158  0.          0.        ]\n",
      "  [ 0.13636364  0.68181818  0.13636364  0.04545455  0.        ]\n",
      "  [ 0.07142857  0.14285714  0.57142857  0.10714286  0.10714286]\n",
      "  [ 0.          0.04545455  0.13636364  0.68181818  0.13636364]\n",
      "  [ 0.          0.          0.05263158  0.15789474  0.78947368]]\n",
      "\n",
      " [[ 0.78947368  0.15789474  0.05263158  0.          0.        ]\n",
      "  [ 0.13636364  0.68181818  0.13636364  0.04545455  0.        ]\n",
      "  [ 0.07142857  0.14285714  0.57142857  0.14285714  0.07142857]\n",
      "  [ 0.          0.04545455  0.13636364  0.68181818  0.13636364]\n",
      "  [ 0.          0.          0.05263158  0.15789474  0.78947368]]\n",
      "\n",
      " [[ 0.78947368  0.15789474  0.05263158  0.          0.        ]\n",
      "  [ 0.13636364  0.68181818  0.13636364  0.04545455  0.        ]\n",
      "  [ 0.03571429  0.10714286  0.57142857  0.17857143  0.10714286]\n",
      "  [ 0.          0.04545455  0.13636364  0.68181818  0.13636364]\n",
      "  [ 0.          0.          0.05263158  0.15789474  0.78947368]]\n",
      "\n",
      " [[ 0.78947368  0.15789474  0.05263158  0.          0.        ]\n",
      "  [ 0.13636364  0.68181818  0.13636364  0.04545455  0.        ]\n",
      "  [ 0.07142857  0.14285714  0.64285714  0.10714286  0.03571429]\n",
      "  [ 0.          0.04545455  0.13636364  0.68181818  0.13636364]\n",
      "  [ 0.          0.          0.05263158  0.15789474  0.78947368]]\n",
      "\n",
      " [[ 0.78947368  0.15789474  0.05263158  0.          0.        ]\n",
      "  [ 0.13636364  0.68181818  0.13636364  0.04545455  0.        ]\n",
      "  [ 0.07142857  0.17857143  0.57142857  0.10714286  0.07142857]\n",
      "  [ 0.          0.04545455  0.13636364  0.68181818  0.13636364]\n",
      "  [ 0.          0.          0.05263158  0.15789474  0.78947368]]\n",
      "\n",
      " [[ 0.78947368  0.15789474  0.05263158  0.          0.        ]\n",
      "  [ 0.13636364  0.68181818  0.13636364  0.04545455  0.        ]\n",
      "  [ 0.03571429  0.10714286  0.60714286  0.21428571  0.03571429]\n",
      "  [ 0.          0.04545455  0.13636364  0.68181818  0.13636364]\n",
      "  [ 0.          0.          0.05263158  0.15789474  0.78947368]]\n",
      "\n",
      " [[ 0.78947368  0.15789474  0.05263158  0.          0.        ]\n",
      "  [ 0.13636364  0.68181818  0.13636364  0.04545455  0.        ]\n",
      "  [ 0.07142857  0.14285714  0.57142857  0.14285714  0.07142857]\n",
      "  [ 0.          0.04545455  0.13636364  0.68181818  0.13636364]\n",
      "  [ 0.          0.          0.05263158  0.15789474  0.78947368]]\n",
      "\n",
      " [[ 0.78947368  0.15789474  0.05263158  0.          0.        ]\n",
      "  [ 0.13636364  0.68181818  0.13636364  0.04545455  0.        ]\n",
      "  [ 0.03571429  0.10714286  0.64285714  0.14285714  0.07142857]\n",
      "  [ 0.          0.04545455  0.13636364  0.68181818  0.13636364]\n",
      "  [ 0.          0.          0.05263158  0.15789474  0.78947368]]\n",
      "\n",
      " [[ 0.78947368  0.15789474  0.05263158  0.          0.        ]\n",
      "  [ 0.13636364  0.68181818  0.13636364  0.04545455  0.        ]\n",
      "  [ 0.03571429  0.14285714  0.67857143  0.10714286  0.03571429]\n",
      "  [ 0.          0.04545455  0.13636364  0.68181818  0.13636364]\n",
      "  [ 0.          0.          0.05263158  0.15789474  0.78947368]]\n",
      "\n",
      " [[ 0.78947368  0.15789474  0.05263158  0.          0.        ]\n",
      "  [ 0.13636364  0.68181818  0.13636364  0.04545455  0.        ]\n",
      "  [ 0.03571429  0.10714286  0.64285714  0.17857143  0.03571429]\n",
      "  [ 0.          0.04545455  0.13636364  0.68181818  0.13636364]\n",
      "  [ 0.          0.          0.05263158  0.15789474  0.78947368]]]\n",
      "-148.532572442\n",
      "[[ 0.  0.  1.  0.  0.]\n",
      " [ 0.  0.  1.  0.  0.]\n",
      " [ 0.  0.  1.  0.  0.]\n",
      " [ 0.  0.  1.  0.  0.]\n",
      " [ 0.  0.  1.  0.  0.]]\n"
     ]
    },
    {
     "name": "stderr",
     "output_type": "stream",
     "text": [
      "/usr/local/lib/python3.5/dist-packages/pyanno/util.py:80: RuntimeWarning: divide by zero encountered in log\n",
      "  log_theta = ninf_to_num(log(theta))\n"
     ]
    }
   ],
   "source": [
    "model.map(anno.annotations)\n",
    "print(model.theta)\n",
    "print(model.log_likelihood(anno.annotations))\n",
    "\n",
    "posterior = model.infer_labels(anno.annotations)\n",
    "print(posterior)"
   ]
  },
  {
   "cell_type": "code",
   "execution_count": 145,
   "metadata": {
    "collapsed": false
   },
   "outputs": [
    {
     "name": "stdout",
     "output_type": "stream",
     "text": [
      "[[[  7.89473684e-001   1.57894737e-001   5.26315789e-002   0.00000000e+000\n",
      "     0.00000000e+000]\n",
      "  [  1.25077803e-001   7.08149055e-001   1.25077821e-001   4.16953208e-002\n",
      "     0.00000000e+000]\n",
      "  [  9.99686232e-002   1.57307692e-001   4.42710069e-001   2.14217547e-001\n",
      "     8.57960691e-002]\n",
      "  [  3.35813500e-077   4.34915770e-002   1.30499436e-001   6.52373646e-001\n",
      "     1.73635342e-001]\n",
      "  [  0.00000000e+000   0.00000000e+000   5.26315789e-002   1.57894737e-001\n",
      "     7.89473684e-001]]\n",
      "\n",
      " [[  7.89473684e-001   1.57894737e-001   5.26315789e-002   0.00000000e+000\n",
      "     0.00000000e+000]\n",
      "  [  1.66591052e-001   6.66635804e-001   1.25080520e-001   4.16926233e-002\n",
      "     0.00000000e+000]\n",
      "  [  8.57488261e-002   1.71526707e-001   5.14115304e-001   1.71374775e-001\n",
      "     5.72343875e-002]\n",
      "  [  0.00000000e+000   4.34939587e-002   1.30499436e-001   6.52373646e-001\n",
      "     1.73632960e-001]\n",
      "  [  0.00000000e+000   0.00000000e+000   5.26315789e-002   1.57894737e-001\n",
      "     7.89473684e-001]]\n",
      "\n",
      " [[  7.89473684e-001   1.57894737e-001   5.26315789e-002   0.00000000e+000\n",
      "     0.00000000e+000]\n",
      "  [  1.66591052e-001   6.25391718e-001   1.66324609e-001   4.16926213e-002\n",
      "     2.12745443e-098]\n",
      "  [  5.71863623e-002   1.71373846e-001   4.71542031e-001   1.99929137e-001\n",
      "     9.99686229e-002]\n",
      "  [  1.08138104e-085   4.34916089e-002   1.73635342e-001   6.52398320e-001\n",
      "     1.30474730e-001]\n",
      "  [  0.00000000e+000   0.00000000e+000   5.26315789e-002   1.57894737e-001\n",
      "     7.89473684e-001]]\n",
      "\n",
      " [[  7.89473684e-001   1.57894737e-001   5.26315789e-002   0.00000000e+000\n",
      "     0.00000000e+000]\n",
      "  [  1.66591069e-001   6.25391716e-001   1.25077825e-001   8.29393890e-002\n",
      "     1.55145235e-069]\n",
      "  [  2.86238925e-002   1.99927439e-001   5.14124340e-001   2.14480635e-001\n",
      "     4.28436943e-002]\n",
      "  [  0.00000000e+000   4.35186282e-002   1.30474730e-001   6.95531909e-001\n",
      "     1.30474733e-001]\n",
      "  [  0.00000000e+000   0.00000000e+000   5.26315789e-002   1.57894737e-001\n",
      "     7.89473684e-001]]\n",
      "\n",
      " [[  7.89473684e-001   1.57894737e-001   5.26315789e-002   0.00000000e+000\n",
      "     0.00000000e+000]\n",
      "  [  1.25077821e-001   7.08149053e-001   1.25080525e-001   4.16926011e-002\n",
      "     1.22089813e-088]\n",
      "  [  1.14249849e-001   1.57299591e-001   5.28403865e-001   1.14359315e-001\n",
      "     8.56873806e-002]\n",
      "  [  5.52989733e-152   4.35162503e-002   1.30477112e-001   6.95531876e-001\n",
      "     1.30474762e-001]\n",
      "  [  0.00000000e+000   0.00000000e+000   5.26315789e-002   1.57894737e-001\n",
      "     7.89473684e-001]]\n",
      "\n",
      " [[  7.89473684e-001   1.57894737e-001   5.26315789e-002   0.00000000e+000\n",
      "     0.00000000e+000]\n",
      "  [  1.25077821e-001   6.25391716e-001   2.07837842e-001   4.16926211e-002\n",
      "     1.22240155e-097]\n",
      "  [  4.28436896e-002   1.71483318e-001   4.57213557e-001   2.57054069e-001\n",
      "     7.14053665e-002]\n",
      "  [  0.00000000e+000   8.66498070e-002   1.30474744e-001   6.52398306e-001\n",
      "     1.30477144e-001]\n",
      "  [  0.00000000e+000   0.00000000e+000   5.26315789e-002   1.57894737e-001\n",
      "     7.89473684e-001]]\n",
      "\n",
      " [[  7.89473684e-001   1.57894737e-001   5.26315789e-002   0.00000000e+000\n",
      "     0.00000000e+000]\n",
      "  [  1.25077805e-001   6.66635804e-001   1.25080541e-001   8.32058496e-002\n",
      "     4.47983584e-122]\n",
      "  [  7.14061587e-002   1.42964232e-001   4.56998482e-001   1.85818812e-001\n",
      "     1.42812315e-001]\n",
      "  [  0.00000000e+000   4.34939950e-002   1.30474729e-001   6.95556536e-001\n",
      "     1.30474740e-001]\n",
      "  [  0.00000000e+000   0.00000000e+000   5.26315789e-002   1.57894737e-001\n",
      "     7.89473684e-001]]\n",
      "\n",
      " [[  7.89473684e-001   1.57894737e-001   5.26315789e-002   0.00000000e+000\n",
      "     0.00000000e+000]\n",
      "  [  1.25077803e-001   6.25391716e-001   1.66324593e-001   8.32058874e-002\n",
      "     1.86207013e-040]\n",
      "  [  7.14061594e-002   1.57092626e-001   4.71432576e-001   2.42834262e-001\n",
      "     5.72343768e-002]\n",
      "  [  1.80501030e-057   4.34915768e-002   1.30477111e-001   6.52398320e-001\n",
      "     1.73632992e-001]\n",
      "  [  0.00000000e+000   0.00000000e+000   5.26315789e-002   1.57894737e-001\n",
      "     7.89473684e-001]]\n",
      "\n",
      " [[  7.89473684e-001   1.57894737e-001   5.26315789e-002   0.00000000e+000\n",
      "     0.00000000e+000]\n",
      "  [  1.25077821e-001   6.25389017e-001   1.25080503e-001   8.29393890e-002\n",
      "     4.15132705e-002]\n",
      "  [  7.14061534e-002   1.71366682e-001   5.85528788e-001   1.14512022e-001\n",
      "     5.71863548e-002]\n",
      "  [  4.52749025e-098   4.35162462e-002   1.30477148e-001   6.95531876e-001\n",
      "     1.30474729e-001]\n",
      "  [  0.00000000e+000   0.00000000e+000   5.26315789e-002   1.57894737e-001\n",
      "     7.89473684e-001]]\n",
      "\n",
      " [[  7.89473684e-001   1.57894737e-001   5.26315789e-002   0.00000000e+000\n",
      "     0.00000000e+000]\n",
      "  [  1.66324611e-001   6.66904965e-001   1.25077823e-001   4.16926011e-002\n",
      "     0.00000000e+000]\n",
      "  [  1.28683787e-001   2.14270879e-001   4.14264395e-001   1.85656011e-001\n",
      "     5.71249275e-002]\n",
      "  [  0.00000000e+000   4.35162726e-002   1.73635342e-001   6.52373656e-001\n",
      "     1.30474729e-001]\n",
      "  [  0.00000000e+000   0.00000000e+000   5.26315789e-002   1.57894737e-001\n",
      "     7.89473684e-001]]\n",
      "\n",
      " [[  7.89473684e-001   1.57894737e-001   5.26315789e-002   0.00000000e+000\n",
      "     0.00000000e+000]\n",
      "  [  1.25077823e-001   6.66635822e-001   1.66593753e-001   4.16926011e-002\n",
      "     4.96896042e-119]\n",
      "  [  7.14061525e-002   2.42933640e-001   5.14184063e-001   1.00069986e-001\n",
      "     7.14061594e-002]\n",
      "  [  3.94969062e-088   4.34915872e-002   1.30477148e-001   6.95556536e-001\n",
      "     1.30474729e-001]\n",
      "  [  0.00000000e+000   0.00000000e+000   5.26315789e-002   1.57894737e-001\n",
      "     7.89473684e-001]]\n",
      "\n",
      " [[  7.89473684e-001   1.57894737e-001   5.26315789e-002   0.00000000e+000\n",
      "     0.00000000e+000]\n",
      "  [  1.25080505e-001   7.08149073e-001   1.25077821e-001   4.16926012e-002\n",
      "     5.79142079e-091]\n",
      "  [  9.99676978e-002   1.71588907e-001   4.14147621e-001   2.28609165e-001\n",
      "     8.56866091e-002]\n",
      "  [  1.06944206e-149   4.34916089e-002   1.30499389e-001   6.95531891e-001\n",
      "     1.30477111e-001]\n",
      "  [  0.00000000e+000   0.00000000e+000   5.26315789e-002   1.57894737e-001\n",
      "     7.89473684e-001]]\n",
      "\n",
      " [[  7.89473684e-001   1.57894737e-001   5.26315789e-002   0.00000000e+000\n",
      "     0.00000000e+000]\n",
      "  [  2.07837840e-001   6.25389017e-001   1.25080525e-001   4.16926189e-002\n",
      "     1.17148605e-116]\n",
      "  [  5.73390695e-002   1.85765471e-001   4.56997706e-001   1.99937230e-001\n",
      "     9.99605245e-002]\n",
      "  [  3.33246919e-070   8.66498183e-002   1.30477111e-001   6.52373678e-001\n",
      "     1.30499392e-001]\n",
      "  [  0.00000000e+000   0.00000000e+000   5.26315789e-002   1.57894737e-001\n",
      "     7.89473684e-001]]\n",
      "\n",
      " [[  7.89473684e-001   1.57894737e-001   5.26315789e-002   0.00000000e+000\n",
      "     0.00000000e+000]\n",
      "  [  1.66324611e-001   6.25389034e-001   1.66593753e-001   4.16926011e-002\n",
      "     0.00000000e+000]\n",
      "  [  5.72776279e-002   2.14218472e-001   4.85614280e-001   1.71374000e-001\n",
      "     7.15156194e-002]\n",
      "  [  0.00000000e+000   4.34915764e-002   1.30499436e-001   6.52376028e-001\n",
      "     1.73632960e-001]\n",
      "  [  0.00000000e+000   0.00000000e+000   5.26315789e-002   1.57894737e-001\n",
      "     7.89473684e-001]]\n",
      "\n",
      " [[  7.89473684e-001   1.57894737e-001   5.26315789e-002   0.00000000e+000\n",
      "     0.00000000e+000]\n",
      "  [  1.66591052e-001   6.25389037e-001   1.25080520e-001   8.29393912e-002\n",
      "     0.00000000e+000]\n",
      "  [  7.15770540e-002   1.71374776e-001   4.28436021e-001   2.42924758e-001\n",
      "     8.56873913e-002]\n",
      "  [  4.31582310e-002   4.34915764e-002   1.30474744e-001   6.52400720e-001\n",
      "     1.30474729e-001]\n",
      "  [  0.00000000e+000   0.00000000e+000   5.26315789e-002   1.57894737e-001\n",
      "     7.89473684e-001]]\n",
      "\n",
      " [[  7.89473684e-001   1.57894737e-001   5.26315789e-002   0.00000000e+000\n",
      "     0.00000000e+000]\n",
      "  [  1.25077803e-001   6.66902285e-001   1.66327308e-001   4.16926031e-002\n",
      "     0.00000000e+000]\n",
      "  [  8.56873912e-002   1.85717432e-001   4.57150414e-001   2.28491607e-001\n",
      "     4.29531556e-002]\n",
      "  [  0.00000000e+000   4.34916089e-002   1.30477112e-001   6.52398320e-001\n",
      "     1.73632960e-001]\n",
      "  [  0.00000000e+000   0.00000000e+000   5.26315789e-002   1.57894737e-001\n",
      "     7.89473684e-001]]\n",
      "\n",
      " [[  7.89473684e-001   1.57894737e-001   5.26315789e-002   0.00000000e+000\n",
      "     0.00000000e+000]\n",
      "  [  1.66324593e-001   6.25389017e-001   1.25080523e-001   8.32058672e-002\n",
      "     0.00000000e+000]\n",
      "  [  1.00121330e-001   1.57093535e-001   5.42787242e-001   1.71436211e-001\n",
      "     2.85616816e-002]\n",
      "  [  0.00000000e+000   4.34916235e-002   1.73657620e-001   6.52373646e-001\n",
      "     1.30477111e-001]\n",
      "  [  0.00000000e+000   0.00000000e+000   5.26315789e-002   1.57894737e-001\n",
      "     7.89473684e-001]]\n",
      "\n",
      " [[  7.89473684e-001   1.57894737e-001   5.26315789e-002   0.00000000e+000\n",
      "     0.00000000e+000]\n",
      "  [  1.25077803e-001   7.08151753e-001   1.25077823e-001   4.16926211e-002\n",
      "     3.53591699e-098]\n",
      "  [  7.14061594e-002   1.43025536e-001   5.14233785e-001   1.99928360e-001\n",
      "     7.14061594e-002]\n",
      "  [  4.57601371e-103   4.34915764e-002   1.73633008e-001   6.52400687e-001\n",
      "     1.30474729e-001]\n",
      "  [  0.00000000e+000   0.00000000e+000   5.26315789e-002   1.57894737e-001\n",
      "     7.89473684e-001]]\n",
      "\n",
      " [[  7.89473684e-001   1.57894737e-001   5.26315789e-002   0.00000000e+000\n",
      "     0.00000000e+000]\n",
      "  [  1.25077823e-001   6.25391716e-001   1.66591071e-001   8.29393890e-002\n",
      "     0.00000000e+000]\n",
      "  [  8.56873844e-002   1.42811393e-001   5.28458907e-001   1.71636157e-001\n",
      "     7.14061593e-002]\n",
      "  [  0.00000000e+000   4.34915807e-002   1.30499399e-001   6.95534291e-001\n",
      "     1.30474730e-001]\n",
      "  [  0.00000000e+000   0.00000000e+000   5.26315789e-002   1.57894737e-001\n",
      "     7.89473684e-001]]\n",
      "\n",
      " [[  7.89473684e-001   1.57894737e-001   5.26315789e-002   0.00000000e+000\n",
      "     0.00000000e+000]\n",
      "  [  1.25077803e-001   7.08149053e-001   1.25077825e-001   4.16953183e-002\n",
      "     1.86375008e-066]\n",
      "  [  5.71249275e-002   1.43026459e-001   4.71390094e-001   1.85655084e-001\n",
      "     1.42803436e-001]\n",
      "  [  8.07217553e-028   4.34915804e-002   1.73632993e-001   6.52373646e-001\n",
      "     1.30501781e-001]\n",
      "  [  0.00000000e+000   0.00000000e+000   5.26315789e-002   1.57894737e-001\n",
      "     7.89473684e-001]]]\n",
      "-1449.76896382\n",
      "[[  0.00000000e+000   7.60368034e-103   1.00000000e+000   4.34121088e-081\n",
      "    0.00000000e+000]\n",
      " [  0.00000000e+000   1.26570641e-187   9.99999907e-001   9.34811494e-008\n",
      "    0.00000000e+000]\n",
      " [  0.00000000e+000   0.00000000e+000   1.00000000e+000   0.00000000e+000\n",
      "    0.00000000e+000]\n",
      " [  0.00000000e+000   3.38245289e-009   9.99999997e-001   0.00000000e+000\n",
      "    0.00000000e+000]\n",
      " [  0.00000000e+000   1.34590674e-125   1.00000000e+000   0.00000000e+000\n",
      "    0.00000000e+000]\n",
      " [  0.00000000e+000   0.00000000e+000   1.00000000e+000   0.00000000e+000\n",
      "    0.00000000e+000]\n",
      " [  0.00000000e+000   4.22954808e-007   9.99999577e-001   0.00000000e+000\n",
      "    0.00000000e+000]\n",
      " [  0.00000000e+000   0.00000000e+000   1.00000000e+000   0.00000000e+000\n",
      "    0.00000000e+000]\n",
      " [  0.00000000e+000   6.95283717e-094   1.00000000e+000   0.00000000e+000\n",
      "    0.00000000e+000]\n",
      " [  0.00000000e+000   1.46691141e-225   9.99999252e-001   7.47911678e-007\n",
      "    0.00000000e+000]\n",
      " [  0.00000000e+000   0.00000000e+000   1.00000000e+000   0.00000000e+000\n",
      "    0.00000000e+000]\n",
      " [  0.00000000e+000   1.24657847e-069   1.00000000e+000   2.07329448e-082\n",
      "    0.00000000e+000]\n",
      " [  0.00000000e+000   2.62598220e-071   1.00000000e+000   0.00000000e+000\n",
      "    0.00000000e+000]\n",
      " [  0.00000000e+000   0.00000000e+000   1.00000000e+000   3.30628154e-242\n",
      "    0.00000000e+000]\n",
      " [  0.00000000e+000   9.95698215e-001   4.30178498e-003   0.00000000e+000\n",
      "    0.00000000e+000]\n",
      " [  0.00000000e+000   0.00000000e+000   7.66460408e-003   9.92335396e-001\n",
      "    0.00000000e+000]\n",
      " [  0.00000000e+000   9.89307140e-001   1.06928603e-002   0.00000000e+000\n",
      "    0.00000000e+000]\n",
      " [  0.00000000e+000   1.85990965e-190   1.00000000e+000   7.28715864e-154\n",
      "    0.00000000e+000]\n",
      " [  0.00000000e+000   6.47480844e-005   9.99935252e-001   7.58506549e-159\n",
      "    0.00000000e+000]\n",
      " [  0.00000000e+000   0.00000000e+000   1.00000000e+000   2.64969049e-060\n",
      "    0.00000000e+000]\n",
      " [  0.00000000e+000   0.00000000e+000   1.00000000e+000   2.01480948e-092\n",
      "    0.00000000e+000]\n",
      " [  0.00000000e+000   9.47551481e-302   1.00000000e+000   0.00000000e+000\n",
      "    0.00000000e+000]\n",
      " [  0.00000000e+000   0.00000000e+000   1.00000000e+000   0.00000000e+000\n",
      "    0.00000000e+000]\n",
      " [  0.00000000e+000   4.62505814e-123   1.00000000e+000   0.00000000e+000\n",
      "    0.00000000e+000]\n",
      " [  0.00000000e+000   1.50008160e-187   9.99433010e-001   5.66990425e-004\n",
      "    0.00000000e+000]\n",
      " [  0.00000000e+000   1.42448590e-041   1.00000000e+000   1.51906205e-160\n",
      "    0.00000000e+000]\n",
      " [  0.00000000e+000   0.00000000e+000   1.00000000e+000   1.00340505e-089\n",
      "    0.00000000e+000]\n",
      " [  0.00000000e+000   0.00000000e+000   1.00000000e+000   0.00000000e+000\n",
      "    0.00000000e+000]\n",
      " [  0.00000000e+000   0.00000000e+000   9.99945231e-001   5.47692373e-005\n",
      "    0.00000000e+000]\n",
      " [  0.00000000e+000   4.18559771e-191   9.99999757e-001   2.43025715e-007\n",
      "    0.00000000e+000]\n",
      " [  0.00000000e+000   2.82640277e-104   1.00000000e+000   6.17902469e-081\n",
      "    0.00000000e+000]\n",
      " [  0.00000000e+000   0.00000000e+000   1.00000000e+000   0.00000000e+000\n",
      "    0.00000000e+000]\n",
      " [  0.00000000e+000   1.99958148e-128   1.00000000e+000   2.99956969e-073\n",
      "    0.00000000e+000]\n",
      " [  0.00000000e+000   0.00000000e+000   9.99999991e-001   8.79975351e-009\n",
      "    0.00000000e+000]\n",
      " [  0.00000000e+000   0.00000000e+000   1.00000000e+000   3.44145509e-108\n",
      "    0.00000000e+000]\n",
      " [  0.00000000e+000   0.00000000e+000   1.00000000e+000   1.51856532e-028\n",
      "    0.00000000e+000]\n",
      " [  0.00000000e+000   0.00000000e+000   1.00000000e+000   0.00000000e+000\n",
      "    0.00000000e+000]\n",
      " [  0.00000000e+000   7.90504113e-070   1.00000000e+000   3.62585617e-233\n",
      "    0.00000000e+000]\n",
      " [  0.00000000e+000   4.80140132e-007   9.99999520e-001   0.00000000e+000\n",
      "    0.00000000e+000]\n",
      " [  0.00000000e+000   6.00007751e-103   9.99999993e-001   6.68383709e-009\n",
      "    0.00000000e+000]\n",
      " [  0.00000000e+000   4.79480189e-008   9.99999952e-001   0.00000000e+000\n",
      "    0.00000000e+000]\n",
      " [  0.00000000e+000   4.15164374e-095   1.00000000e+000   0.00000000e+000\n",
      "    0.00000000e+000]\n",
      " [  0.00000000e+000   2.16533556e-072   1.00000000e+000   0.00000000e+000\n",
      "    0.00000000e+000]\n",
      " [  0.00000000e+000   1.92349636e-102   1.00000000e+000   0.00000000e+000\n",
      "    0.00000000e+000]\n",
      " [  0.00000000e+000   4.60062196e-070   1.00000000e+000   0.00000000e+000\n",
      "    0.00000000e+000]\n",
      " [  0.00000000e+000   0.00000000e+000   1.00000000e+000   5.97587524e-103\n",
      "    0.00000000e+000]\n",
      " [  0.00000000e+000   4.79216183e-072   1.00000000e+000   2.95743012e-060\n",
      "    0.00000000e+000]\n",
      " [  0.00000000e+000   0.00000000e+000   1.00000000e+000   0.00000000e+000\n",
      "    0.00000000e+000]\n",
      " [  0.00000000e+000   0.00000000e+000   1.00000000e+000   3.37504902e-303\n",
      "    0.00000000e+000]\n",
      " [  0.00000000e+000   0.00000000e+000   1.00000000e+000   4.52694474e-062\n",
      "    0.00000000e+000]]\n"
     ]
    },
    {
     "name": "stderr",
     "output_type": "stream",
     "text": [
      "/usr/local/lib/python3.5/dist-packages/pyanno/util.py:80: RuntimeWarning: divide by zero encountered in log\n",
      "  log_theta = ninf_to_num(log(theta))\n"
     ]
    }
   ],
   "source": [
    "model.map(anno2.annotations)\n",
    "print(model.theta)\n",
    "print(model.log_likelihood(anno2.annotations))\n",
    "\n",
    "posterior2 = model.infer_labels(anno2.annotations)\n",
    "print(posterior2)"
   ]
  },
  {
   "cell_type": "code",
   "execution_count": 146,
   "metadata": {
    "collapsed": false
   },
   "outputs": [
    {
     "data": {
      "image/png": "[encoded data removed]",
      "text/plain": [
       "<matplotlib.figure.Figure at 0x7f4743b68d30>"
      ]
     },
     "metadata": {},
     "output_type": "display_data"
    }
   ],
   "source": [
    "# Plot the posterior with ModelB\n",
    "ax = seaborn.heatmap(posterior[::])\n",
    "plt.show()"
   ]
  },
  {
   "cell_type": "code",
   "execution_count": 147,
   "metadata": {
    "collapsed": false
   },
   "outputs": [
    {
     "data": {
      "image/png": "[encoded data removed]",
      "text/plain": [
       "<matplotlib.figure.Figure at 0x7f47420a3ac8>"
      ]
     },
     "metadata": {},
     "output_type": "display_data"
    }
   ],
   "source": [
    "# Plot the posterior with ModelB\n",
    "ax = seaborn.heatmap(posterior2[:20,])\n",
    "plt.show()"
   ]
  },
  {
   "cell_type": "markdown",
   "metadata": {},
   "source": [
    "The property of these scores is that they enable us to identify the most likely code assuming coders of unequal quality, which also allows us to break ties when we know coder identity. For some analyses, we may simply use the posterior themselves rather than the most probably code outcome."
   ]
  },
  {
   "cell_type": "markdown",
   "metadata": {},
   "source": [
    "# Generating Annotations"
   ]
  },
  {
   "cell_type": "code",
   "execution_count": 148,
   "metadata": {
    "collapsed": false
   },
   "outputs": [
    {
     "data": {
      "text/plain": [
       "array([[4, 4, 4, 4, 0],\n",
       "       [4, 4, 4, 4, 4],\n",
       "       [0, 4, 4, 2, 4],\n",
       "       [4, 4, 0, 0, 0],\n",
       "       [2, 2, 1, 3, 1],\n",
       "       [0, 0, 0, 4, 4],\n",
       "       [0, 1, 2, 2, 3],\n",
       "       [4, 1, 3, 4, 1],\n",
       "       [0, 0, 1, 0, 2],\n",
       "       [0, 0, 0, 2, 2],\n",
       "       [4, 4, 2, 2, 2],\n",
       "       [0, 4, 0, 4, 1],\n",
       "       [1, 1, 1, 2, 0],\n",
       "       [2, 2, 1, 2, 1],\n",
       "       [1, 4, 1, 1, 2],\n",
       "       [0, 0, 2, 1, 1],\n",
       "       [2, 2, 0, 1, 1],\n",
       "       [0, 3, 0, 0, 1],\n",
       "       [0, 0, 0, 1, 3],\n",
       "       [1, 1, 0, 2, 2]])"
      ]
     },
     "execution_count": 148,
     "metadata": {},
     "output_type": "execute_result"
    }
   ],
   "source": [
    "# To generate artifical data from a model\n",
    "model = ModelBt.create_initial_state(5, 5, theta=[0.99,0.75,0.50,0.25,0.1])\n",
    "#randome generate annotations with 5 label classes and 5 annotators. The accuracy of the three annotators are 0.99, 0.75, and 0.25 respectively.\n",
    "model.generate_annotations(20)"
   ]
  },
  {
   "cell_type": "markdown",
   "metadata": {},
   "source": [
    "## Visualizing coder accuracy"
   ]
  },
  {
   "cell_type": "markdown",
   "metadata": {},
   "source": [
    "Pyanno provides a [graphical user interface](http://docs.enthought.com/uchicago-pyanno/user_guide.html) for making plots. However, it is not compatible with ipyton notebook. Nevertheless, nothing prevents us from making plots using matplotlib. Let's make a plot of the accuracy of each annotator inferred from ModelBt."
   ]
  },
  {
   "cell_type": "code",
   "execution_count": 149,
   "metadata": {
    "collapsed": false
   },
   "outputs": [],
   "source": [
    "model = ModelBt.create_initial_state(5,20)\n",
    "model.mle(anno.annotations)\n",
    "samples = model.sample_posterior_over_accuracy(anno.annotations, 200, burn_in_samples=100, thin_samples=3)\n",
    "y =  samples.mean(axis=0)\n",
    "y_ci = samples.std(axis=0)"
   ]
  },
  {
   "cell_type": "code",
   "execution_count": 150,
   "metadata": {
    "collapsed": true
   },
   "outputs": [],
   "source": [
    "model.mle(anno2.annotations)\n",
    "samples2 = model.sample_posterior_over_accuracy(anno2.annotations, 200, burn_in_samples=100, thin_samples=3)\n",
    "y2 =  samples2.mean(axis=0)\n",
    "y_ci2 = samples2.std(axis=0)"
   ]
  },
  {
   "cell_type": "code",
   "execution_count": 151,
   "metadata": {
    "collapsed": false
   },
   "outputs": [
    {
     "data": {
      "image/png": "[encoded data removed]",
      "text/plain": [
       "<matplotlib.figure.Figure at 0x7f4741f9b518>"
      ]
     },
     "metadata": {},
     "output_type": "display_data"
    },
    {
     "data": {
      "image/png": "[encoded data removed]",
      "text/plain": [
       "<matplotlib.figure.Figure at 0x7f4741c41198>"
      ]
     },
     "metadata": {},
     "output_type": "display_data"
    }
   ],
   "source": [
    "plt.figure()\n",
    "plt.errorbar(range(20),y, yerr = y_ci)\n",
    "plt.show()\n",
    "plt.figure()\n",
    "plt.errorbar(range(20),y2, yerr = y_ci2)\n",
    "plt.show()"
   ]
  },
  {
   "cell_type": "markdown",
   "metadata": {},
   "source": [
    "# Memo\n",
    "\n",
    "For this session, I have generate two sets of pseudo codes: a 5 by 20 matrix and a 50 by 20 matrix. This is to simulates the situations in which 20 annotators code five or fifty items where each of the items have five possible choices. In both cases, the five possible choices have associated probabilities used to generate them: 0.1 for `0`, 0.2 for `1`, 0.4 for `2`, 0.2 for `3`, and 0.1 for `4`. The resulting matrice are imported and saved as numpy array objects, x and y.\n",
    "\n",
    "The comparison between these two offers some interesting points. For example, compared to that of x, the confusion matrix between two 'coders' for y shows more clearly that both are likely to choose the option `2`. On the other hand, the set of heatmaps comparing coders using Pearson's $\\rho$ and Spearman's $\\rho$ show that the correlation among coders is approximately zero in the second matrix, y.  \n",
    "\n",
    "For the modeling part of this exercise, I could use only ModelB and ModelBt; it seems that ModelA is not applicable to my data because it is not 'looped' like the example in the original notebok. The final coder accuracy plots show that while the first set of sampels generated from the 5 by 20 data shows much variance, the second set of samples generated are much tightly distributed around 0.5."
   ]
  }
 ],
 "metadata": {
  "anaconda-cloud": {},
  "kernelspec": {
   "display_name": "Python 3",
   "language": "python",
   "name": "python3"
  },
  "language_info": {
   "codemirror_mode": {
    "name": "ipython",
    "version": 3
   },
   "file_extension": ".py",
   "mimetype": "text/x-python",
   "name": "python",
   "nbconvert_exporter": "python",
   "pygments_lexer": "ipython3",
   "version": "3.5.2"
  }
 },
 "nbformat": 4,
 "nbformat_minor": 1
}
